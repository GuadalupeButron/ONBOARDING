{
 "cells": [
  {
   "cell_type": "code",
   "execution_count": 25,
   "metadata": {},
   "outputs": [
    {
     "name": "stdout",
     "output_type": "stream",
     "text": [
      " tiene 2 lunas\n"
     ]
    }
   ],
   "source": [
    "name= \"Mars\"\n",
    "moons= 2\n",
    "\n",
    "planet = ({\n",
    "    name: \"\",\n",
    "    moons: 2\n",
    "})\n",
    "print(f\"{planet[name]} tiene {planet[moons]} lunas\")"
   ]
  },
  {
   "cell_type": "code",
   "execution_count": 31,
   "metadata": {},
   "outputs": [
    {
     "name": "stdout",
     "output_type": "stream",
     "text": [
      " tiene una circunferencia polar de {'polar': 6752, 'equatorial': 6792}\n"
     ]
    }
   ],
   "source": [
    "polar= 6752\n",
    "equatorial= 6792\n",
    "planet['circumference (km)'] = {\n",
    "    'polar': 6752,\n",
    "    'equatorial': 6792\n",
    "}\n",
    "print(f\"{planet[name]} tiene una circunferencia polar de {planet ['circumference (km)']}\")\n"
   ]
  },
  {
   "cell_type": "code",
   "execution_count": 32,
   "metadata": {},
   "outputs": [
    {
     "name": "stdout",
     "output_type": "stream",
     "text": [
      "17.833333333333332\n"
     ]
    }
   ],
   "source": [
    "planet_moons = {\n",
    "    'mercury': 0,\n",
    "    'venus': 0,\n",
    "    'earth': 1,\n",
    "    'mars': 2,\n",
    "    'jupiter': 79,\n",
    "    'saturn': 82,\n",
    "    'uranus': 27,\n",
    "    'neptune': 14,\n",
    "    'pluto': 5,\n",
    "    'haumea': 2,\n",
    "    'makemake': 1,\n",
    "    'eris': 1\n",
    "}\n",
    "moons = planet_moons.values()\n",
    "planets = len(planet_moons.keys())\n",
    "total_moons = 0\n",
    "for moon in moons:\n",
    "    total_moons = total_moons + moon\n",
    "    average = total_moons / planets\n",
    "print(average)\n"
   ]
  }
 ],
 "metadata": {
  "interpreter": {
   "hash": "3f2fd283728febc5bab7075c510beffcb77ab64f05d40b73046303dbcac24627"
  },
  "kernelspec": {
   "display_name": "Python 3.10.2 64-bit",
   "language": "python",
   "name": "python3"
  },
  "language_info": {
   "codemirror_mode": {
    "name": "ipython",
    "version": 3
   },
   "file_extension": ".py",
   "mimetype": "text/x-python",
   "name": "python",
   "nbconvert_exporter": "python",
   "pygments_lexer": "ipython3",
   "version": "3.10.2"
  },
  "orig_nbformat": 4
 },
 "nbformat": 4,
 "nbformat_minor": 2
}
