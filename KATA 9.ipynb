{
 "cells": [
  {
   "cell_type": "code",
   "execution_count": 11,
   "metadata": {},
   "outputs": [
    {
     "name": "stdout",
     "output_type": "stream",
     "text": [
      "totales:\n",
      "totales= 78.33333333333333%\n",
      "tanque1= 80%\n",
      "tanque2= 70%\n",
      "tanque3= 85% \n",
      "\n"
     ]
    }
   ],
   "source": [
    "def informes(tanque1, tanque2, tanque3):\n",
    "    totales = (tanque1+ tanque2+ tanque3) / 3\n",
    "    return f\"\"\"totales:\n",
    "totales= {totales}%\n",
    "tanque1= {tanque1}%\n",
    "tanque2= {tanque2}%\n",
    "tanque3= {tanque3}% \n",
    "\"\"\"\n",
    "print(informes(80, 70, 85))"
   ]
  },
  {
   "cell_type": "code",
   "execution_count": 12,
   "metadata": {},
   "outputs": [
    {
     "data": {
      "text/plain": [
       "82.0"
      ]
     },
     "execution_count": 12,
     "metadata": {},
     "output_type": "execute_result"
    }
   ],
   "source": [
    "def average(values):\n",
    "    total = sum(values)\n",
    "    number_of_items = len(values)\n",
    "    return total / number_of_items\n",
    "\n",
    "# Test the averaging function with a list of integers:\n",
    "average([80, 85, 81]) \n"
   ]
  },
  {
   "cell_type": "code",
   "execution_count": 16,
   "metadata": {},
   "outputs": [
    {
     "name": "stdout",
     "output_type": "stream",
     "text": [
      "totales:\n",
      "    totales= 78.0%\n",
      "    tanque1= 88%\n",
      "    tanque2= 76%\n",
      "    tanque3= 70% \n",
      "    \n"
     ]
    }
   ],
   "source": [
    "def informes(tanque1, tanque2, tanque3):\n",
    "    totales = (tanque1+ tanque2+ tanque3) / 3\n",
    "    return f\"\"\"totales:\n",
    "    totales= {totales}%\n",
    "    tanque1= {tanque1}%\n",
    "    tanque2= {tanque2}%\n",
    "    tanque3= {tanque3}% \n",
    "    \"\"\"\n",
    "print(informes(88, 76, 70))"
   ]
  },
  {
   "cell_type": "code",
   "execution_count": 19,
   "metadata": {},
   "outputs": [
    {
     "name": "stdout",
     "output_type": "stream",
     "text": [
      "\n",
      "    Mision  Moon\n",
      "    Tiempo del viaje: 76 minutes\n",
      "    Total combustible: 500000\n",
      "    \n"
     ]
    }
   ],
   "source": [
    "def reporte_mision(destino, *minutes, **fuel_reservoirs):\n",
    "    return f\"\"\"\n",
    "    Mision  {destino}\n",
    "    Tiempo del viaje: {sum(minutes)} minutes\n",
    "    Total combustible: {sum(fuel_reservoirs.values())}\n",
    "    \"\"\"\n",
    "\n",
    "print (reporte_mision (\"Moon\", 10, 15, 51, main=300000, external=200000))"
   ]
  }
 ],
 "metadata": {
  "interpreter": {
   "hash": "3f2fd283728febc5bab7075c510beffcb77ab64f05d40b73046303dbcac24627"
  },
  "kernelspec": {
   "display_name": "Python 3.10.2 64-bit",
   "language": "python",
   "name": "python3"
  },
  "language_info": {
   "codemirror_mode": {
    "name": "ipython",
    "version": 3
   },
   "file_extension": ".py",
   "mimetype": "text/x-python",
   "name": "python",
   "nbconvert_exporter": "python",
   "pygments_lexer": "ipython3",
   "version": "3.10.2"
  },
  "orig_nbformat": 4
 },
 "nbformat": 4,
 "nbformat_minor": 2
}
