{
 "cells": [
  {
   "cell_type": "markdown",
   "metadata": {},
   "source": [
    "KATA 6"
   ]
  },
  {
   "cell_type": "code",
   "execution_count": 2,
   "metadata": {},
   "outputs": [
    {
     "name": "stdout",
     "output_type": "stream",
     "text": [
      "Hay 8 planetas en el sistema solar.\n",
      "Actualmente hay 9 planetas en el sistema solar.\n"
     ]
    }
   ],
   "source": [
    "planets = [\"Mercury\", \"Venus\", \"Earth\", \"Mars\", \"Jupiter\", \"Saturn\", \"Uranus\", \"Neptune\"]\n",
    "numero_de_planetas = len(planets)\n",
    "print(\"Hay\", numero_de_planetas, \"planetas en el sistema solar.\")\n",
    "planets.append(\"Pluton\")\n",
    "numero_de_planetas= len(planets)\n",
    "print(\"Actualmente hay\", numero_de_planetas, \"planetas en el sistema solar.\")\n"
   ]
  },
  {
   "cell_type": "code",
   "execution_count": 19,
   "metadata": {},
   "outputs": [
    {
     "name": "stdout",
     "output_type": "stream",
     "text": [
      "Tu planeta esSaturno\n",
      "['Mercurio', 'Venus', 'Tierra', 'Marte', 'Jupiter']\n"
     ]
    }
   ],
   "source": [
    "planets = [\"Mercurio\", \"Venus\", \"Tierra\", \"Marte\", \"Jupiter\", \"Saturno\", \"Urano\", \"Neptuno\" \"Pluton\"]\n",
    "usuario = input (\"Ingresa nombre de un planeta iniciando la primera con mayuscula\")\n",
    "planeta_index =planets.index(usuario)\n",
    "print( \"Tu planeta es\" + usuario)\n",
    "print (planets[0:planeta_index])"
   ]
  },
  {
   "cell_type": "code",
   "execution_count": 23,
   "metadata": {},
   "outputs": [
    {
     "name": "stdout",
     "output_type": "stream",
     "text": [
      "Tu planeta esJupiter\n",
      "['Mercurio', 'Venus', 'Tierra', 'Marte', 'Jupiter', 'Saturno']\n"
     ]
    }
   ],
   "source": [
    "usuario = input (\"Ingresa nombre de un planeta iniciando la primera con mayuscula\")\n",
    "print( \"Tu planeta es\" + usuario)\n",
    "print (planets[0:planeta_index+1])"
   ]
  }
 ],
 "metadata": {
  "interpreter": {
   "hash": "3f2fd283728febc5bab7075c510beffcb77ab64f05d40b73046303dbcac24627"
  },
  "kernelspec": {
   "display_name": "Python 3.10.2 64-bit",
   "language": "python",
   "name": "python3"
  },
  "language_info": {
   "codemirror_mode": {
    "name": "ipython",
    "version": 3
   },
   "file_extension": ".py",
   "mimetype": "text/x-python",
   "name": "python",
   "nbconvert_exporter": "python",
   "pygments_lexer": "ipython3",
   "version": "3.10.2"
  },
  "orig_nbformat": 4
 },
 "nbformat": 4,
 "nbformat_minor": 2
}
