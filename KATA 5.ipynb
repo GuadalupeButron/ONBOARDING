{
 "cells": [
  {
   "cell_type": "markdown",
   "metadata": {},
   "source": [
    "KATA 5"
   ]
  },
  {
   "cell_type": "code",
   "execution_count": 11,
   "metadata": {},
   "outputs": [
    {
     "name": "stdout",
     "output_type": "stream",
     "text": [
      "628949330\n",
      "390577533.93\n"
     ]
    }
   ],
   "source": [
    "Tierra= (149597870)\n",
    "Júpiter=(778547200)\n",
    "kilometros= (Tierra - Júpiter)\n",
    "millas= (Tierra - Júpiter)*0.621\n",
    "print (abs(kilometros))\n",
    "print (abs(millas) )"
   ]
  },
  {
   "cell_type": "code",
   "execution_count": 15,
   "metadata": {},
   "outputs": [
    {
     "name": "stdout",
     "output_type": "stream",
     "text": [
      "1.863\n"
     ]
    }
   ],
   "source": [
    "planeta1 = input (\"Distancia del sol planeta 1\")\n",
    "planeta2 = input (\"Distancia del sol planeta 2\")\n",
    "planeta1 = int (planeta1)\n",
    "planeta2= int (planeta2)\n",
    "calculo= (planeta1-planeta2)*0.621\n",
    "print (abs(calculo))\n"
   ]
  },
  {
   "cell_type": "code",
   "execution_count": null,
   "metadata": {},
   "outputs": [],
   "source": []
  }
 ],
 "metadata": {
  "interpreter": {
   "hash": "3f2fd283728febc5bab7075c510beffcb77ab64f05d40b73046303dbcac24627"
  },
  "kernelspec": {
   "display_name": "Python 3.10.2 64-bit",
   "language": "python",
   "name": "python3"
  },
  "language_info": {
   "codemirror_mode": {
    "name": "ipython",
    "version": 3
   },
   "file_extension": ".py",
   "mimetype": "text/x-python",
   "name": "python",
   "nbconvert_exporter": "python",
   "pygments_lexer": "ipython3",
   "version": "3.10.2"
  },
  "orig_nbformat": 4
 },
 "nbformat": 4,
 "nbformat_minor": 2
}
