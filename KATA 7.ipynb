{
 "cells": [
  {
   "cell_type": "markdown",
   "metadata": {},
   "source": [
    "KATA 7"
   ]
  },
  {
   "cell_type": "code",
   "execution_count": 8,
   "metadata": {},
   "outputs": [
    {
     "ename": "KeyboardInterrupt",
     "evalue": "",
     "output_type": "error",
     "traceback": [
      "\u001b[1;31m---------------------------------------------------------------------------\u001b[0m",
      "\u001b[1;31mKeyboardInterrupt\u001b[0m                         Traceback (most recent call last)",
      "\u001b[1;32mUntitled-1.ipynb Cell 2'\u001b[0m in \u001b[0;36m<module>\u001b[1;34m\u001b[0m\n\u001b[0;32m      <a href='vscode-notebook-cell:Untitled-1.ipynb?jupyter-notebook#ch0000002untitled?line=0'>1</a>\u001b[0m new_planet\u001b[39m=\u001b[39m \u001b[39minput\u001b[39m ()\n\u001b[0;32m      <a href='vscode-notebook-cell:Untitled-1.ipynb?jupyter-notebook#ch0000002untitled?line=1'>2</a>\u001b[0m planets\u001b[39m=\u001b[39m[]\n\u001b[1;32m----> <a href='vscode-notebook-cell:Untitled-1.ipynb?jupyter-notebook#ch0000002untitled?line=2'>3</a>\u001b[0m \u001b[39mwhile\u001b[39;00m new_planet\u001b[39m.\u001b[39;49mlower() \u001b[39m!=\u001b[39;49m \u001b[39m'\u001b[39;49m\u001b[39mdone\u001b[39;49m\u001b[39m'\u001b[39;49m:\n\u001b[0;32m      <a href='vscode-notebook-cell:Untitled-1.ipynb?jupyter-notebook#ch0000002untitled?line=3'>4</a>\u001b[0m     \u001b[39mif\u001b[39;00m new_planet:\n\u001b[0;32m      <a href='vscode-notebook-cell:Untitled-1.ipynb?jupyter-notebook#ch0000002untitled?line=4'>5</a>\u001b[0m         planets\u001b[39m.\u001b[39mappend (new_planet) \n",
      "\u001b[1;31mKeyboardInterrupt\u001b[0m: "
     ]
    }
   ],
   "source": [
    "new_planet= input ()\n",
    "planets=[]\n",
    "while new_planet.lower() != 'done':\n",
    "    if new_planet:\n",
    "        planets.append (new_planet) \n",
    "new_planet = input (\"Agrega un nuevo valor\")\n"
   ]
  },
  {
   "cell_type": "code",
   "execution_count": 1,
   "metadata": {},
   "outputs": [
    {
     "ename": "KeyboardInterrupt",
     "evalue": "",
     "output_type": "error",
     "traceback": [
      "\u001b[1;31m---------------------------------------------------------------------------\u001b[0m",
      "\u001b[1;31mKeyboardInterrupt\u001b[0m                         Traceback (most recent call last)",
      "\u001b[1;32mc:\\Users\\Jija\\Desktop\\LAUNCHX\\KATA 7.ipynb Cell 3'\u001b[0m in \u001b[0;36m<module>\u001b[1;34m\u001b[0m\n\u001b[0;32m      <a href='vscode-notebook-cell:/c%3A/Users/Jija/Desktop/LAUNCHX/KATA%207.ipynb#ch0000002?line=0'>1</a>\u001b[0m new_planet\u001b[39m=\u001b[39m \u001b[39minput\u001b[39m ()\n\u001b[0;32m      <a href='vscode-notebook-cell:/c%3A/Users/Jija/Desktop/LAUNCHX/KATA%207.ipynb#ch0000002?line=1'>2</a>\u001b[0m planets\u001b[39m=\u001b[39m[]\n\u001b[1;32m----> <a href='vscode-notebook-cell:/c%3A/Users/Jija/Desktop/LAUNCHX/KATA%207.ipynb#ch0000002?line=2'>3</a>\u001b[0m \u001b[39mwhile\u001b[39;00m new_planet\u001b[39m.\u001b[39;49mlower() \u001b[39m!=\u001b[39;49m \u001b[39m'\u001b[39;49m\u001b[39mdone\u001b[39;49m\u001b[39m'\u001b[39;49m:\n\u001b[0;32m      <a href='vscode-notebook-cell:/c%3A/Users/Jija/Desktop/LAUNCHX/KATA%207.ipynb#ch0000002?line=3'>4</a>\u001b[0m     \u001b[39mif\u001b[39;00m new_planet:\n\u001b[0;32m      <a href='vscode-notebook-cell:/c%3A/Users/Jija/Desktop/LAUNCHX/KATA%207.ipynb#ch0000002?line=4'>5</a>\u001b[0m         planets\u001b[39m.\u001b[39mappend (new_planet) \n",
      "\u001b[1;31mKeyboardInterrupt\u001b[0m: "
     ]
    }
   ],
   "source": [
    "new_planet= input ()\n",
    "planets=[]\n",
    "while new_planet.lower() != 'done':\n",
    "    if new_planet:\n",
    "        planets.append (new_planet) \n",
    "new_planet = input (\"Agrega un nuevo valor\")\n",
    "\n",
    "for planet in planets:\n",
    "    print(planet)"
   ]
  }
 ],
 "metadata": {
  "interpreter": {
   "hash": "3f2fd283728febc5bab7075c510beffcb77ab64f05d40b73046303dbcac24627"
  },
  "kernelspec": {
   "display_name": "Python 3.10.2 64-bit",
   "language": "python",
   "name": "python3"
  },
  "language_info": {
   "codemirror_mode": {
    "name": "ipython",
    "version": 3
   },
   "file_extension": ".py",
   "mimetype": "text/x-python",
   "name": "python",
   "nbconvert_exporter": "python",
   "pygments_lexer": "ipython3",
   "version": "3.10.2"
  },
  "orig_nbformat": 4
 },
 "nbformat": 4,
 "nbformat_minor": 2
}
